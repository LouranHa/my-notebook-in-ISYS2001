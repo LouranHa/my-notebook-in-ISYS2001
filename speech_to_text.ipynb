{
  "nbformat": 4,
  "nbformat_minor": 0,
  "metadata": {
    "colab": {
      "name": "speech_to_text.ipynb",
      "provenance": [],
      "include_colab_link": true
    },
    "kernelspec": {
      "name": "python3",
      "display_name": "Python 3"
    },
    "language_info": {
      "name": "python"
    }
  },
  "cells": [
    {
      "cell_type": "markdown",
      "metadata": {
        "id": "view-in-github",
        "colab_type": "text"
      },
      "source": [
        "<a href=\"https://colab.research.google.com/github/LouranHa/my-notebook-in-ISYS2001/blob/main/speech_to_text.ipynb\" target=\"_parent\"><img src=\"https://colab.research.google.com/assets/colab-badge.svg\" alt=\"Open In Colab\"/></a>"
      ]
    },
    {
      "cell_type": "markdown",
      "source": [
        "# Speech to Text\n",
        "\n",
        "Part of your job is to produce a weekly summary (an intelligence report) of what is happening in your field. Sources of content include\n",
        "* Social Media\n",
        "* Webpages\n",
        "* YouTube\n",
        "* Podcasts\n",
        "* Blog posts\n",
        "* Reports\n",
        "* Articles\n",
        "\n",
        "I am sure you can think of many more. It would be great if we could write a program to create this report.\n",
        "\n",
        "There is a lot to do here. Gather the data, summarise the data and collate it into a document. How do we process video or a podcast? How can I get data from a webpage or a database? How can I summarise this data? Can I save the data as an excel spreadsheet or word document?\n",
        "\n",
        "A good strategy would be not to solve it all at once. Can we easily break it down into a few more straightforward problems? If we can solve and combine in the right way the simple issues, we should be able to solve the bigger problem. This approach of breaking a problem into subsystems is known as top-down design or programming. We look more closely at this approach in later modules.  \n",
        "\n",
        "Our general approach will be to take a source of content and convert that content into text. If needed, summarise the text and append it to our report. Then tidy up the information and submit it to our boss. Except for the last step, most of these steps can be done by a computer.\n",
        "\n",
        "Today, we will focus on how to convert an audio source into text. The audio source could be a podcast, a video or some other recording. We are going to convert speech to text. If you want to know more, have a look at [The Ultimate Guide to Speech Recognition With Python](https://realpython.com/python-speech-recognition/)\n",
        "\n",
        "## Tasks\n",
        "* Import into GitHub\n",
        "* Write a program to convert speech to text\n",
        "* regularly save to GitHub with a commit message"
      ],
      "metadata": {
        "id": "WTD7HkIDMXsH"
      }
    },
    {
      "cell_type": "code",
      "source": [
        "import speech_recognition as sr\n",
        "\n",
        "r = sr.Recognizer()\n",
        "\n",
        "audio = '/content/empty.wav'\n",
        "try:\n",
        "  with sr.AudioFile(audio) as source:\n",
        "    audio = r.record(source)\n",
        "\n",
        "  #print('Done!')\n",
        "\n",
        "  text = r.recognize_google(audio)\n",
        "  print(text)\n",
        "except Exception as e:\n",
        "  print(e)\n"
      ],
      "metadata": {
        "id": "jpmIwK03SKOr",
        "colab": {
          "base_uri": "https://localhost:8080/"
        },
        "outputId": "33dff09d-5d67-4710-b237-203bc29abe91"
      },
      "execution_count": 8,
      "outputs": [
        {
          "output_type": "stream",
          "name": "stdout",
          "text": [
            "Audio file could not be read as PCM WAV, AIFF/AIFF-C, or Native FLAC; check if file is corrupted or in another format\n"
          ]
        }
      ]
    },
    {
      "cell_type": "code",
      "source": [
        "!pip -q install speechRecognition\n",
        "!wget https://www.pacdv.com/sounds/voices/maybe-next-time.wav"
      ],
      "metadata": {
        "colab": {
          "base_uri": "https://localhost:8080/"
        },
        "id": "Op9xKVDjh2w-",
        "outputId": "ba2a5306-33a6-45e7-a154-4460bd7164ea"
      },
      "execution_count": 4,
      "outputs": [
        {
          "output_type": "stream",
          "name": "stdout",
          "text": [
            "--2023-04-21 02:00:37--  https://www.pacdv.com/sounds/voices/maybe-next-time.wav\n",
            "Resolving www.pacdv.com (www.pacdv.com)... 192.232.218.187\n",
            "Connecting to www.pacdv.com (www.pacdv.com)|192.232.218.187|:443... connected.\n",
            "HTTP request sent, awaiting response... 200 OK\n",
            "Length: 141336 (138K) [audio/x-wav]\n",
            "Saving to: ‘maybe-next-time.wav’\n",
            "\n",
            "maybe-next-time.wav 100%[===================>] 138.02K  --.-KB/s    in 0.1s    \n",
            "\n",
            "2023-04-21 02:00:37 (963 KB/s) - ‘maybe-next-time.wav’ saved [141336/141336]\n",
            "\n"
          ]
        }
      ]
    }
  ]
}