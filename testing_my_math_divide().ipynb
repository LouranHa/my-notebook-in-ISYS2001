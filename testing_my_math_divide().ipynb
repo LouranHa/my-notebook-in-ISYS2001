{
  "nbformat": 4,
  "nbformat_minor": 0,
  "metadata": {
    "colab": {
      "name": "testing_my_math.divide().ipynb",
      "provenance": [],
      "include_colab_link": true
    },
    "kernelspec": {
      "name": "python3",
      "display_name": "Python 3"
    },
    "language_info": {
      "name": "python"
    }
  },
  "cells": [
    {
      "cell_type": "markdown",
      "metadata": {
        "id": "view-in-github",
        "colab_type": "text"
      },
      "source": [
        "<a href=\"https://colab.research.google.com/github/LouranHa/my-notebook-in-ISYS2001/blob/main/testing_my_math_divide().ipynb\" target=\"_parent\"><img src=\"https://colab.research.google.com/assets/colab-badge.svg\" alt=\"Open In Colab\"/></a>"
      ]
    },
    {
      "cell_type": "markdown",
      "source": [
        "## Testing  my_math.divide()\n",
        "\n",
        "What is your preferred testing strategy? Do you like using the assert statement or prefer doctest?  \n",
        "\n",
        "Using your preferred testing strategy, develop a test table and test the following funciton.  Where required update the function so all test behave as expected.\n",
        "\n",
        "\n",
        "## Function to test"
      ],
      "metadata": {
        "id": "LIfoDVzKX7uK"
      }
    },
    {
      "cell_type": "code",
      "source": [
        "def divide(x, y):\n",
        "    '''Divide first by second number'''\n",
        "    return x / y"
      ],
      "metadata": {
        "id": "YH9gDoOYvKwg"
      },
      "execution_count": 1,
      "outputs": []
    },
    {
      "cell_type": "markdown",
      "source": [
        "## Test Table\n",
        "\n",
        "List you test cases here."
      ],
      "metadata": {
        "id": "JYSZ-53nLF6n"
      }
    },
    {
      "cell_type": "code",
      "source": [
        "assert divide(4,2) == 2\n",
        "assert divide(8,4) == 2\n",
        "assert divide(10,5) ==2\n",
        "assert divide('0',1) == 'Not a number'"
      ],
      "metadata": {
        "id": "DMTITEmbLE_Z"
      },
      "execution_count": 9,
      "outputs": []
    },
    {
      "cell_type": "code",
      "source": [
        "def test_divide():\n",
        "    assert divide(6, 3) == 2\n",
        "    assert divide(0, 7) == 0\n",
        "    assert divide(20, 6) == 3.3333333333333335\n",
        "    assert divide(-6, 3) == -2\n",
        "    assert divide(20, -10) == -2\n",
        "    try:\n",
        "        divide(7, 0)\n",
        "    except ZeroDivisionError:\n",
        "        pass\n",
        "    else:\n",
        "        raise AssertionError(\"Expected ZeroDivisionError\")\n",
        "\n",
        "test_divide()\n",
        "\n",
        "\n"
      ],
      "metadata": {
        "id": "mGI1Lk6QFQn8"
      },
      "execution_count": 21,
      "outputs": []
    },
    {
      "cell_type": "markdown",
      "source": [
        "Input values | Expected output\n",
        "-------------|----------------\n",
        "6, 3        | 2\n",
        "0, 7         | 0\n",
        "20, 6        | 3.3333333333333335\n",
        "-6, 3       | -2\n",
        "20, -10       | -2\n",
        "7, 0         | ZeroDivisionError\n"
      ],
      "metadata": {
        "id": "P3qQE9V2Gqxs"
      }
    },
    {
      "cell_type": "markdown",
      "source": [
        "\n",
        "\n"
      ],
      "metadata": {
        "id": "1tY1K5r3FW5b"
      }
    }
  ]
}