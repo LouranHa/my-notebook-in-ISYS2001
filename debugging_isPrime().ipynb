{
  "nbformat": 4,
  "nbformat_minor": 0,
  "metadata": {
    "colab": {
      "name": "debugging_isPrime().ipynb",
      "provenance": [],
      "include_colab_link": true
    },
    "kernelspec": {
      "name": "python3",
      "display_name": "Python 3"
    },
    "language_info": {
      "name": "python"
    }
  },
  "cells": [
    {
      "cell_type": "markdown",
      "metadata": {
        "id": "view-in-github",
        "colab_type": "text"
      },
      "source": [
        "<a href=\"https://colab.research.google.com/github/LouranHa/my-notebook-in-ISYS2001/blob/main/debugging_isPrime().ipynb\" target=\"_parent\"><img src=\"https://colab.research.google.com/assets/colab-badge.svg\" alt=\"Open In Colab\"/></a>"
      ]
    },
    {
      "cell_type": "markdown",
      "source": [
        "## Debug isPrime()\n",
        "What is your preferred method? Do you like using print() or prefer *pdb*?   Since mistakes in programs will happen, the important part is that you have a debugging strategy, not which tool you use.\n",
        "\n",
        "Here is a function that needs debugging. Using either print() or *pdb*, debug the following function."
      ],
      "metadata": {
        "id": "LIfoDVzKX7uK"
      }
    },
    {
      "cell_type": "code",
      "source": [
        "def isPrime(candidate):\n",
        "    if candidate <= 1:\n",
        "        return False\n",
        "\n",
        "    lower = candidate - 1\n",
        "    while lower > 1:\n",
        "        if candidate / lower == candidate // lower:\n",
        "            return False\n",
        "        lower -= 1\n",
        "\n",
        "    return True"
      ],
      "metadata": {
        "id": "YH9gDoOYvKwg"
      },
      "execution_count": 1,
      "outputs": []
    },
    {
      "cell_type": "markdown",
      "source": [],
      "metadata": {
        "id": "eOiLXYI-42pa"
      }
    },
    {
      "cell_type": "markdown",
      "source": [
        "Im just using print function"
      ],
      "metadata": {
        "id": "sds6Id_b44kV"
      }
    },
    {
      "cell_type": "code",
      "source": [
        "def isPrime(candidate):\n",
        "    if candidate <= 1:\n",
        "        return False\n",
        "\n",
        "    lower = candidate - 1\n",
        "    while lower > 1:\n",
        "        print(f\"Checking {candidate} % {lower} = {candidate % lower}\")\n",
        "        if candidate % lower == 0:\n",
        "            return False\n",
        "        lower -= 1\n",
        "\n",
        "    return True\n"
      ],
      "metadata": {
        "id": "BYHHoGqb4LK2"
      },
      "execution_count": 9,
      "outputs": []
    },
    {
      "cell_type": "markdown",
      "source": [
        "Using pdb function"
      ],
      "metadata": {
        "id": "37OIlmwB5Cw5"
      }
    },
    {
      "cell_type": "code",
      "source": [
        "import pdb\n",
        "\n",
        "def isPrime(candidate):\n",
        "    pdb.set_trace() \n",
        "    if candidate <= 1:\n",
        "        return False\n",
        "    \n",
        "    lower = candidate - 1\n",
        "    while lower > 1:\n",
        "        if candidate / lower == candidate // lower:\n",
        "            return False\n",
        "        lower -= 1\n",
        "\n",
        "    return True\n"
      ],
      "metadata": {
        "id": "o3Jfhzui8gCD"
      },
      "execution_count": 8,
      "outputs": []
    }
  ]
}