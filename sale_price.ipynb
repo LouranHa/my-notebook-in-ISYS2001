{
  "nbformat": 4,
  "nbformat_minor": 0,
  "metadata": {
    "colab": {
      "name": "sale_price.ipynb",
      "provenance": [],
      "include_colab_link": true
    },
    "kernelspec": {
      "name": "python3",
      "display_name": "Python 3"
    },
    "language_info": {
      "name": "python"
    }
  },
  "cells": [
    {
      "cell_type": "markdown",
      "metadata": {
        "id": "view-in-github",
        "colab_type": "text"
      },
      "source": [
        "<a href=\"https://colab.research.google.com/github/LouranHa/my-notebook-in-ISYS2001/blob/main/sale_price.ipynb\" target=\"_parent\"><img src=\"https://colab.research.google.com/assets/colab-badge.svg\" alt=\"Open In Colab\"/></a>"
      ]
    },
    {
      "cell_type": "markdown",
      "metadata": {
        "id": "cgTeiXOtSPjH"
      },
      "source": [
        "# Sales Price\n",
        "\n",
        "A local department store needs to develop a program that will computer the total price (including goods and services tax) of the item on sale when given an item's original price and discount percentage.\n",
        "\n",
        "## Tasks\n",
        "* Save to Github\n",
        "* Design Algorithm\n",
        "* Write and test the program in Python"
      ]
    },
    {
      "cell_type": "code",
      "metadata": {
        "id": "pPIN2ZcrSqdw",
        "colab": {
          "base_uri": "https://localhost:8080/"
        },
        "outputId": "c18074f4-8d2a-4018-9000-b7232bc931df"
      },
      "source": [
        "def compute_sale_price(original_price, discount_percentage, gst_percentage):\n",
        "    \n",
        "    discount_amount = original_price * discount_percentage / 100\n",
        "\n",
        "    sale_price = original_price - discount_amount\n",
        "    \n",
        "    gst_amount = sale_price * gst_percentage / 100\n",
        "    \n",
        "    total_price = sale_price + gst_amount\n",
        "    \n",
        "    return total_price\n",
        "original_price = float(input(\"Enter the original price of the item: \"))\n",
        "discount_percentage = float(input(\"Enter the discount percentage: \"))\n",
        "gst_percentage = float(input(\"Enter the GST percentage: \"))\n",
        "\n",
        "total_price = compute_sale_price(original_price, discount_percentage, gst_percentage)\n",
        "\n",
        "print(\"The total price (including GST) is:\", total_price)\n"
      ],
      "execution_count": 13,
      "outputs": [
        {
          "output_type": "stream",
          "name": "stdout",
          "text": [
            "Enter the original price of the item: 50\n",
            "Enter the discount percentage: 20\n",
            "Enter the GST percentage: 10\n",
            "The total price (including GST) is: 44.0\n"
          ]
        }
      ]
    },
    {
      "cell_type": "markdown",
      "source": [
        "I can use the assert statement to test the function automatically"
      ],
      "metadata": {
        "id": "SydkVFMeNsxw"
      }
    },
    {
      "cell_type": "code",
      "source": [
        "assert compute_sale_price(100, 10, 5) == 94.5\n",
        "assert compute_sale_price(50, 20, 10) == 44.00\n",
        "assert compute_sale_price(200, 0, 15) == 230.00\n"
      ],
      "metadata": {
        "id": "25sN_YuINya9"
      },
      "execution_count": 14,
      "outputs": []
    }
  ]
}